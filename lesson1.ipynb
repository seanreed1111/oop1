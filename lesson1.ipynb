{
 "cells": [
  {
   "cell_type": "code",
   "execution_count": null,
   "metadata": {},
   "outputs": [],
   "source": []
  },
  {
   "cell_type": "markdown",
   "metadata": {},
   "source": [
    "Main link: https://realpython.com/python3-object-oriented-programming/\n",
    "\n",
    "Other links \n",
    "* https://medium.com/the-renaissance-developer/python-101-object-oriented-programming-part-1-7d5d06833f26\n",
    "\n",
    "* https://towardsdatascience.com/understand-o-o-p-in-python-with-one-article-bfa76f3ba48c\n"
   ]
  },
  {
   "cell_type": "markdown",
   "metadata": {},
   "source": [
    "Motivation: Object-Oriented Programming (OOP) was/is/was seen as the best thing since sliced bread up until about 20 years or so ago. As computing problems have gotten more and more complex, there have been waves of developers who have pushed back, preferring a style called 'functional' programming. Since OOP has much more momentum, particularly in Python , it is a must for serious students of Python programming to understand in detail how it works.\n",
    "\n",
    "\n",
    "\n",
    "I will focus on the HOW during this lecture, if you want to spend time with the why, please read the link below after the lecture.\n",
    " https://levelup.gitconnected.com/why-learn-objects-oriented-programming-in-python-794cdccc4caa\n",
    "\n"
   ]
  },
  {
   "cell_type": "code",
   "execution_count": null,
   "metadata": {},
   "outputs": [],
   "source": [
    "The main benefits of Object Oriented Programming are Encapsulation and Abstraction"
   ]
  },
  {
   "cell_type": "code",
   "execution_count": null,
   "metadata": {},
   "outputs": [],
   "source": [
    "dir(int)"
   ]
  },
  {
   "cell_type": "code",
   "execution_count": null,
   "metadata": {},
   "outputs": [],
   "source": [
    "dir(list)"
   ]
  },
  {
   "cell_type": "code",
   "execution_count": 3,
   "metadata": {},
   "outputs": [],
   "source": [
    "class Dog:\n",
    "    pass"
   ]
  },
  {
   "cell_type": "code",
   "execution_count": 4,
   "metadata": {},
   "outputs": [],
   "source": [
    "spot = Dog()\n",
    "rex = Dog()\n"
   ]
  },
  {
   "cell_type": "code",
   "execution_count": null,
   "metadata": {},
   "outputs": [],
   "source": [
    "print(spot)\n",
    "print(rex)"
   ]
  },
  {
   "cell_type": "code",
   "execution_count": null,
   "metadata": {},
   "outputs": [],
   "source": [
    "type(spot), type(rex)\n"
   ]
  },
  {
   "cell_type": "markdown",
   "metadata": {},
   "source": [
    "## Wait, what just happenned??\n",
    "\n"
   ]
  },
  {
   "cell_type": "markdown",
   "metadata": {},
   "source": [
    "We made two objects, spot and rex, that are of type Dog, defined in something called __main__"
   ]
  },
  {
   "cell_type": "code",
   "execution_count": 5,
   "metadata": {},
   "outputs": [
    {
     "name": "stdout",
     "output_type": "stream",
     "text": [
      "4421219568 4421222160\n",
      "False\n"
     ]
    }
   ],
   "source": [
    "#It will probably not suprise you that spot and rex are DIFFERENT objects\n",
    "\n",
    "print(id(spot), id(rex))\n",
    "\n",
    "print(id(spot) == id(rex))\n"
   ]
  },
  {
   "cell_type": "markdown",
   "metadata": {},
   "source": [
    "So, Dog() creates a NEW DISTINCT object, automatically!"
   ]
  },
  {
   "cell_type": "markdown",
   "metadata": {},
   "source": [
    "Dog() is known as a constructor (of Dog objects)"
   ]
  },
  {
   "cell_type": "code",
   "execution_count": null,
   "metadata": {},
   "outputs": [],
   "source": []
  },
  {
   "cell_type": "code",
   "execution_count": 7,
   "metadata": {},
   "outputs": [
    {
     "name": "stdout",
     "output_type": "stream",
     "text": [
      "<__main__.Dog object at 0x1079120a0>\n",
      "Sparky\n",
      "Mixed\n"
     ]
    }
   ],
   "source": [
    "# We can modify these objects in many ways\n",
    "# For example, we can add as many properties to them as we want to!\n",
    "\n",
    "d = Dog()\n",
    "d.name = 'Sparky'\n",
    "d.breed = 'Mixed'\n",
    "print(d)\n",
    "print(d.name)\n",
    "print(d.breed)"
   ]
  },
  {
   "cell_type": "code",
   "execution_count": null,
   "metadata": {},
   "outputs": [],
   "source": []
  },
  {
   "cell_type": "markdown",
   "metadata": {},
   "source": [
    "Our code looks like this\n",
    "\n",
    "class Dog:\n",
    "    pass\n",
    "\n",
    "Now since our code doesn't really do anything, you will also probably be surprised that our Dog class actually have methods and stuff attached to it for free, courtesy of the magic of Python!!\n",
    "\n",
    "\n"
   ]
  },
  {
   "cell_type": "code",
   "execution_count": 9,
   "metadata": {},
   "outputs": [
    {
     "data": {
      "text/plain": [
       "['__class__',\n",
       " '__delattr__',\n",
       " '__dict__',\n",
       " '__dir__',\n",
       " '__doc__',\n",
       " '__eq__',\n",
       " '__format__',\n",
       " '__ge__',\n",
       " '__getattribute__',\n",
       " '__gt__',\n",
       " '__hash__',\n",
       " '__init__',\n",
       " '__init_subclass__',\n",
       " '__le__',\n",
       " '__lt__',\n",
       " '__module__',\n",
       " '__ne__',\n",
       " '__new__',\n",
       " '__reduce__',\n",
       " '__reduce_ex__',\n",
       " '__repr__',\n",
       " '__setattr__',\n",
       " '__sizeof__',\n",
       " '__str__',\n",
       " '__subclasshook__',\n",
       " '__weakref__']"
      ]
     },
     "execution_count": 9,
     "metadata": {},
     "output_type": "execute_result"
    }
   ],
   "source": [
    "dir(Dog)"
   ]
  },
  {
   "cell_type": "markdown",
   "metadata": {},
   "source": [
    "These are called 'dunder' methods, where dunder means double underscore\n",
    "They all have double underscores before and after the method names. That's how you know they are special methods"
   ]
  },
  {
   "cell_type": "code",
   "execution_count": null,
   "metadata": {},
   "outputs": [],
   "source": []
  },
  {
   "cell_type": "code",
   "execution_count": null,
   "metadata": {},
   "outputs": [],
   "source": []
  },
  {
   "cell_type": "code",
   "execution_count": null,
   "metadata": {},
   "outputs": [],
   "source": []
  },
  {
   "cell_type": "markdown",
   "metadata": {},
   "source": [
    "But we'd  like to be able to add the name and breed and other stuff directly, when we first make the product"
   ]
  },
  {
   "cell_type": "markdown",
   "metadata": {},
   "source": [
    "Since all dogs should have a name, let's REWRITE our code for the class to pass in the dog's name when you construct a new dog object.\n",
    "I will show you the code first, and then explain it.\n",
    "\n",
    "This code EXPLICITLY uses the __init__ method for the Dog class, and IMPLICITLY uses the __new__ method for the Dog class"
   ]
  },
  {
   "cell_type": "markdown",
   "metadata": {},
   "source": [
    "The method __new__ is the first step of instance creation. It's called first, and is responsible for returning a new instance of your class.\n",
    "\n",
    "The method __init__ doesn't return anything; it's only responsible for initializing the instance after it's been created."
   ]
  },
  {
   "cell_type": "code",
   "execution_count": null,
   "metadata": {},
   "outputs": [],
   "source": [
    "# DON'T USE THIS CODE (DUTC)\n",
    "\n",
    "class Dog:\n",
    "    def __init__(self, name):\n",
    "        self.dogname = name"
   ]
  },
  {
   "cell_type": "markdown",
   "metadata": {},
   "source": [
    "## UGH, W.T.H. IS THAT?"
   ]
  },
  {
   "cell_type": "code",
   "execution_count": null,
   "metadata": {},
   "outputs": [],
   "source": []
  },
  {
   "cell_type": "markdown",
   "metadata": {},
   "source": [
    "Sean there is no __new__ there!\n",
    "Also, what is self????!!?\n",
    "\n",
    "Yes, I know, it is IMPLICIT. Stick with me a few minutes and I'll explain..."
   ]
  },
  {
   "cell_type": "code",
   "execution_count": null,
   "metadata": {},
   "outputs": [],
   "source": []
  },
  {
   "cell_type": "code",
   "execution_count": null,
   "metadata": {},
   "outputs": [],
   "source": []
  },
  {
   "cell_type": "code",
   "execution_count": null,
   "metadata": {},
   "outputs": [],
   "source": []
  },
  {
   "cell_type": "code",
   "execution_count": null,
   "metadata": {},
   "outputs": [],
   "source": []
  }
 ],
 "metadata": {
  "kernelspec": {
   "display_name": "Python 3",
   "language": "python",
   "name": "python3"
  },
  "language_info": {
   "codemirror_mode": {
    "name": "ipython",
    "version": 3
   },
   "file_extension": ".py",
   "mimetype": "text/x-python",
   "name": "python",
   "nbconvert_exporter": "python",
   "pygments_lexer": "ipython3",
   "version": "3.8.6"
  }
 },
 "nbformat": 4,
 "nbformat_minor": 4
}
